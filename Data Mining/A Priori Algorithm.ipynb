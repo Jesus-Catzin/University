{
 "cells": [
  {
   "cell_type": "markdown",
   "metadata": {},
   "source": [
    "# A priori Algorithm\n",
    "## Jesus Alejandro Catzin Cetz, Data Engineer\n",
    "### Wednesday 4, november 2020\n",
    "### Data Mining\n",
    "### Teacher: Arturo Raymundo"
   ]
  },
  {
   "cell_type": "code",
   "execution_count": 1,
   "metadata": {},
   "outputs": [],
   "source": [
    "def potencia(c):\n",
    "    \"\"\"Calcula y devuelve el conjunto potencia del \n",
    "       conjunto c.\n",
    "    \"\"\"\n",
    "    \n",
    "    \"\"\"\n",
    "    This will return the possible combinations which in this case are:\n",
    "    Input: base = [{'A','C','D'},{'B','C','E'},{'A','B','C','E'},{'B','E'}] \n",
    "    Output:[[],\n",
    " [{'A', 'C', 'D'}],\n",
    " [{'B', 'C', 'E'}],\n",
    " [{'A', 'C', 'D'}, {'B', 'C', 'E'}],\n",
    " [{'A', 'B', 'C', 'E'}],\n",
    " [{'A', 'C', 'D'}, {'A', 'B', 'C', 'E'}],\n",
    " [{'B', 'C', 'E'}, {'A', 'B', 'C', 'E'}],\n",
    " [{'A', 'C', 'D'}, {'B', 'C', 'E'}, {'A', 'B', 'C', 'E'}],\n",
    " [{'B', 'E'}],\n",
    " [{'A', 'C', 'D'}, {'B', 'E'}],\n",
    " [{'B', 'C', 'E'}, {'B', 'E'}],\n",
    " [{'A', 'C', 'D'}, {'B', 'C', 'E'}, {'B', 'E'}],\n",
    " [{'A', 'B', 'C', 'E'}, {'B', 'E'}],\n",
    " [{'A', 'C', 'D'}, {'A', 'B', 'C', 'E'}, {'B', 'E'}],\n",
    " [{'B', 'C', 'E'}, {'A', 'B', 'C', 'E'}, {'B', 'E'}],\n",
    " [{'A', 'C', 'D'}, {'B', 'C', 'E'}, {'A', 'B', 'C', 'E'}, {'B', 'E'}]] \n",
    "    \"\"\"\n",
    "    #If there not exist any element this will return a empty list\n",
    "    if len(c) == 0:\n",
    "        return [[]]\n",
    "    #If not, it will use recursion to compute it.\n",
    "    r = potencia(c[:-1])\n",
    "    return r + [s + [c[-1]] for s in r]"
   ]
  },
  {
   "cell_type": "code",
   "execution_count": 2,
   "metadata": {},
   "outputs": [],
   "source": [
    "def combinaciones(c, n):\n",
    "    \"\"\"Calcula y devuelve una lista con todas las\n",
    "       combinaciones posibles que se pueden hacer\n",
    "       con los elementos contenidos en c tomando n\n",
    "       elementos a la vez.\n",
    "       \n",
    "       input:  [{'A','C','D'},{'B','C','E'},{'A','B','C','E'},{'B','E'}]\n",
    "       output: [[{'A', 'C', 'D'}, {'B', 'C', 'E'}, {'A', 'B', 'C', 'E'}, {'B', 'E'}]]\n",
    "    \"\"\"\n",
    "    #Esto retorno los elementos ya no repetidos:\n",
    "    return [s for s in potencia(c) if len(s) == n]"
   ]
  },
  {
   "cell_type": "code",
   "execution_count": 3,
   "metadata": {},
   "outputs": [],
   "source": [
    "def scan_cnd(datos,k):\n",
    "    '''\n",
    "    Esta función devuelve la combinación de los valores únicos dados.\n",
    "    La primera parte antes de union = list(union) recorre todos los conjuntos\n",
    "    de la base de datos haciendo uniones entre ellos y sacar los valores\n",
    "    únicos. Y la parte de combinaciones, eso hace por ejemplo:\n",
    "    valores_únicos = ['A','B','C']\n",
    "    combinación de dos\n",
    "    [['A','B'],['A','C'],['B','C']]\n",
    "    '''\n",
    "    \"\"\"\n",
    "    input:datos = [{'A','C','D'},{'B','C','E'},{'A','B','C','E'},{'B','E'}] and k =7\n",
    "    output: [['A', 'D', 'C', 'B'],\n",
    "             ['A', 'D', 'C', 'E'],\n",
    "             ['A', 'D', 'B', 'E'],\n",
    "             ['A', 'C', 'B', 'E'],\n",
    "             ['D', 'C', 'B', 'E']]\n",
    "    \"\"\"\n",
    "    #Starting in the first element\n",
    "    union = datos[0]\n",
    "    #Looping until arrive the last element\n",
    "    for i in range(1,len(datos)-1):\n",
    "        #Performing Union\n",
    "        union = datos[i] | union\n",
    "    #Converting to a list\n",
    "    union = list(union)\n",
    "    #Getting the combinations.\n",
    "    combi = combinaciones(union,k)\n",
    "    return combi"
   ]
  },
  {
   "cell_type": "code",
   "execution_count": 4,
   "metadata": {},
   "outputs": [],
   "source": [
    "def k_max(bd):\n",
    "    '''\n",
    "    Esta función saca la longitud del conjunto más largo de la base de datos.\n",
    "    '''\n",
    "    n_max_set = len(bd[0])\n",
    "    for i in range(1,len(bd)-1):\n",
    "        if n_max_set < len(bd[i]):\n",
    "            n_max_set = len(bd[i])\n",
    "    return n_max_set"
   ]
  },
  {
   "cell_type": "code",
   "execution_count": 5,
   "metadata": {},
   "outputs": [],
   "source": [
    "def select_l(cnd,sup):\n",
    "    '''\n",
    "    Esta función elimina los conjuntos dentro de los candidatos que no complen \n",
    "    con el mínimo suport.\n",
    "    '''\n",
    "    no_cnd = []\n",
    "    for i in range(len(cnd)):\n",
    "        if cnd[i][1] < sup:\n",
    "            no_cnd.append(cnd[i])\n",
    "    for cancel in no_cnd:\n",
    "        cnd.remove(cancel)\n",
    "    return cnd"
   ]
  },
  {
   "cell_type": "code",
   "execution_count": 6,
   "metadata": {},
   "outputs": [],
   "source": [
    "def apriori_algorithm(base_datos,min_sup,probability=False):\n",
    "    '''La función regresa la probabilidad o la frecuencia de los item en los conjuntos de la\n",
    "    base de datos'''\n",
    "    # Entra al 'if' si quieres que sea por probabilidad\n",
    "    if probability:\n",
    "        # Esto comprueba que estemos en en valor de la probabilidad\n",
    "        assert min_sup >= 0 and min_sup <= 1\n",
    "        len_bd = len(base_datos)\n",
    "    # sino que sea por frecencia\n",
    "    else:\n",
    "        assert min_sup >= 0\n",
    "        len_bd = 1\n",
    "    # sacamos la oteraciones (k-1)\n",
    "    k = k_max(base_datos)\n",
    "    for num in range(1,k):\n",
    "        # sacamos las combinaciones dada por k\n",
    "        scan = scan_cnd(base_datos,num)\n",
    "        candidato = []\n",
    "        # iteramos por cada elemento de las combinaciones\n",
    "        for element in scan:\n",
    "            count = 0\n",
    "            # iteramos por cada conjunto en la base de datos\n",
    "            for item in base_datos:\n",
    "                # comprobamos si el elemento esta dentro del conjunto de la base de datos\n",
    "                if set(element) & item == set(element):\n",
    "                    # agregamos 1\n",
    "                    count += 1\n",
    "            # añadimos en nuestra lista de candidatos\n",
    "            candidato.append((set(element),count/len_bd))\n",
    "        # imprimimos la L comprobando si esta dentro de nuestro mínimo suport\n",
    "        print(f'L{num} : {select_l(candidato,min_sup)}\\n')"
   ]
  },
  {
   "cell_type": "code",
   "execution_count": 7,
   "metadata": {},
   "outputs": [
    {
     "name": "stdout",
     "output_type": "stream",
     "text": [
      "L1 : [({'C'}, 3.0), ({'E'}, 3.0), ({'B'}, 3.0), ({'A'}, 2.0)]\n",
      "\n",
      "L2 : [({'C', 'E'}, 2.0), ({'C', 'B'}, 2.0), ({'B', 'E'}, 3.0), ({'A', 'C'}, 2.0)]\n",
      "\n",
      "L3 : [({'B', 'C', 'E'}, 2.0)]\n",
      "\n"
     ]
    }
   ],
   "source": [
    "#Test con el ejemplo de la clase comprobamos que si coincide pero es calculado por frecuencia\n",
    "base = [{'A','C','D'},{'B','C','E'},{'A','B','C','E'},{'B','E'}]\n",
    "supp = 2\n",
    "apriori_algorithm(base,supp)"
   ]
  },
  {
   "cell_type": "code",
   "execution_count": 8,
   "metadata": {},
   "outputs": [
    {
     "name": "stdout",
     "output_type": "stream",
     "text": [
      "L1 : [({'l1'}, 0.7777777777777778), ({'l5'}, 0.2222222222222222), ({'l2'}, 0.7777777777777778), ({'l4'}, 0.5555555555555556), ({'l3'}, 0.4444444444444444)]\n",
      "\n",
      "L2 : [({'l1', 'l2'}, 0.5555555555555556), ({'l5', 'l2'}, 0.2222222222222222), ({'l1', 'l4'}, 0.3333333333333333), ({'l5', 'l4'}, 0.2222222222222222), ({'l4', 'l2'}, 0.5555555555555556), ({'l1', 'l3'}, 0.4444444444444444), ({'l2', 'l3'}, 0.2222222222222222)]\n",
      "\n",
      "L3 : [({'l4', 'l1', 'l2'}, 0.3333333333333333), ({'l4', 'l5', 'l2'}, 0.2222222222222222), ({'l1', 'l2', 'l3'}, 0.2222222222222222)]\n",
      "\n"
     ]
    }
   ],
   "source": [
    "# Ejemplo obtenido de coursera, en el caso de trabajar con probabilidades, comprobado que da la misma respuesta que el ejemplo demostrado en coursera\n",
    "base = [{'l1','l2','l4'},{'l2','l4','l5'},{'l1','l3'},{'l1','l2','l4'},{'l1','l2','l3'},{'l2','l4'},{'l1','l3'},{'l1','l2','l4','l5'},{'l1','l2','l3'}]\n",
    "supp = 2/9\n",
    "apriori_algorithm(base,supp,True)"
   ]
  },
  {
   "cell_type": "code",
   "execution_count": 9,
   "metadata": {},
   "outputs": [
    {
     "name": "stdout",
     "output_type": "stream",
     "text": [
      "L1 : [({'Arroz'}, 0.8571428571428571), ({'jamón'}, 0.7142857142857143), ({'queso'}, 0.8571428571428571), ({'Yogurt'}, 0.5714285714285714), ({'salsa'}, 0.5714285714285714), ({'huevos'}, 0.7142857142857143)]\n",
      "\n",
      "L2 : [({'jamón', 'Arroz'}, 0.5714285714285714), ({'queso', 'Arroz'}, 0.7142857142857143), ({'jamón', 'queso'}, 0.5714285714285714), ({'Arroz', 'Yogurt'}, 0.5714285714285714), ({'salsa', 'Arroz'}, 0.5714285714285714), ({'salsa', 'queso'}, 0.5714285714285714), ({'huevos', 'Arroz'}, 0.5714285714285714), ({'jamón', 'huevos'}, 0.5714285714285714), ({'huevos', 'queso'}, 0.5714285714285714)]\n",
      "\n",
      "L3 : [({'salsa', 'queso', 'Arroz'}, 0.5714285714285714)]\n",
      "\n",
      "L4 : []\n",
      "\n",
      "L5 : []\n",
      "\n",
      "L6 : []\n",
      "\n",
      "None\n"
     ]
    }
   ],
   "source": [
    "# Computing with a threshold of 50% and using also in this case probability.\n",
    "base = [{\"leche\",\"jamón\",\"huevos\",\"Arroz\",\"queso\",\"Yogurt\"},\n",
    "{\"Arroz\",\"huevos\",\"jamón\",\"queso\",\"salsa\",\"sandia\",\"Cebolla\"},\n",
    "{\"queso\",\"huevos\",\"Yogurt\",\"salsa\",\"Arroz\",\"Naranja\"},\n",
    "{\"jamón\",\"queso\",\"Cebolla\",\"tomates\",\"sandia\",\"huevos\"},\n",
    "{\"queso\",\"jamón\",\"salsa\",\"Arroz\",\"Limón\",\"Cebolla\"},\n",
    "{\"tomates\",\"Yogurt\",\"Arroz\",\"salsa\",\"tomates\",\"queso\"},\n",
    "{\"Yogurt\",\"huevos\",\"jamón\",\"tomates\",\"Naranja\",\"Arroz\",\"sandia\"}]\n",
    "sup_probability = 1/2\n",
    "print(apriori_algorithm(base,sup_probability,True))"
   ]
  },
  {
   "cell_type": "markdown",
   "metadata": {},
   "source": [
    "Jesus Catzin: Respuesta \n",
    "\n",
    "L3 : [({'salsa', 'queso', 'Arroz'}, 0.5714285714285714)]"
   ]
  },
  {
   "cell_type": "code",
   "execution_count": 10,
   "metadata": {},
   "outputs": [
    {
     "name": "stdout",
     "output_type": "stream",
     "text": [
      "L1 : [({'Arroz'}, 6.0), ({'jamón'}, 5.0), ({'queso'}, 6.0), ({'Yogurt'}, 4.0), ({'salsa'}, 4.0), ({'huevos'}, 5.0)]\n",
      "\n",
      "L2 : [({'jamón', 'Arroz'}, 4.0), ({'queso', 'Arroz'}, 5.0), ({'jamón', 'queso'}, 4.0), ({'Arroz', 'Yogurt'}, 4.0), ({'salsa', 'Arroz'}, 4.0), ({'salsa', 'queso'}, 4.0), ({'huevos', 'Arroz'}, 4.0), ({'jamón', 'huevos'}, 4.0), ({'huevos', 'queso'}, 4.0)]\n",
      "\n",
      "L3 : [({'salsa', 'queso', 'Arroz'}, 4.0)]\n",
      "\n",
      "L4 : []\n",
      "\n",
      "L5 : []\n",
      "\n",
      "L6 : []\n",
      "\n",
      "None\n"
     ]
    }
   ],
   "source": [
    "#Working with frecuencies and using the minimun support and the relative support which is compute by: \n",
    "#Relative support with 50%\n",
    "# Min support: Minimum = len(database) * relative_support/100\n",
    "base = [{\"leche\",\"jamón\",\"huevos\",\"Arroz\",\"queso\",\"Yogurt\"},\n",
    "{\"Arroz\",\"huevos\",\"jamón\",\"queso\",\"salsa\",\"sandia\",\"Cebolla\"},\n",
    "{\"queso\",\"huevos\",\"Yogurt\",\"salsa\",\"Arroz\",\"Naranja\"},\n",
    "{\"jamón\",\"queso\",\"Cebolla\",\"tomates\",\"sandia\",\"huevos\"},\n",
    "{\"queso\",\"jamón\",\"salsa\",\"Arroz\",\"Limón\",\"Cebolla\"},\n",
    "{\"tomates\",\"Yogurt\",\"Arroz\",\"salsa\",\"tomates\",\"queso\"},\n",
    "{\"Yogurt\",\"huevos\",\"jamón\",\"tomates\",\"Naranja\",\"Arroz\",\"sandia\"}]\n",
    "sup_freq = (len(base)*(1/2))\n",
    "print(apriori_algorithm(base,sup_freq))"
   ]
  },
  {
   "cell_type": "markdown",
   "metadata": {},
   "source": [
    "Jesus Catzin Answer:\n",
    "\n",
    "L3 : [({'salsa', 'queso', 'Arroz'}, 4.0)]"
   ]
  },
  {
   "cell_type": "code",
   "execution_count": null,
   "metadata": {},
   "outputs": [],
   "source": []
  }
 ],
 "metadata": {
  "kernelspec": {
   "display_name": "Python 3",
   "language": "python",
   "name": "python3"
  },
  "language_info": {
   "codemirror_mode": {
    "name": "ipython",
    "version": 3
   },
   "file_extension": ".py",
   "mimetype": "text/x-python",
   "name": "python",
   "nbconvert_exporter": "python",
   "pygments_lexer": "ipython3",
   "version": "3.8.6"
  }
 },
 "nbformat": 4,
 "nbformat_minor": 4
}
